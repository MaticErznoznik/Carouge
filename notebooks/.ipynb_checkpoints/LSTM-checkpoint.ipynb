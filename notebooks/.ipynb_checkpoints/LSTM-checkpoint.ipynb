{
 "cells": [
  {
   "cell_type": "code",
   "execution_count": null,
   "id": "6e717aa5",
   "metadata": {},
   "outputs": [],
   "source": [
    "import tensorflow as tf\n",
    "from tensorflow import keras\n",
    "from tensorflow.keras.datasets import mnist\n",
    "from tensorflow.keras import backend as K\n",
    "import numpy as np\n",
    "import matplotlib.pyplot as plt\n",
    "import pandas as pd\n",
    "from datetime import datetime\n",
    "from tensorflow.keras.models import Sequential\n",
    "from tensorflow.keras.layers import Dense\n",
    "from tensorflow.keras.layers import LSTM\n",
    "from tensorflow.keras.layers import Dropout\n",
    "import random"
   ]
  },
  {
   "cell_type": "code",
   "execution_count": null,
   "id": "34a3e09f",
   "metadata": {},
   "outputs": [],
   "source": [
    "data = pd.read_csv('../data/carouge_flowerbed7.csv')\n",
    "\n",
    "data = data.dropna(subset = ['soilMoisture'])\n",
    "display(data)\n",
    "plt.plot(data['time'], data['soilMoisture'].values)"
   ]
  },
  {
   "cell_type": "code",
   "execution_count": null,
   "id": "10fdf8ed",
   "metadata": {},
   "outputs": [],
   "source": [
    "values = data['soilMoisture'].values\n",
    "values = values[1000:]/50\n",
    "\n",
    "values = np.convolve(values, np.ones(20)/20, mode = 'valid')\n",
    "plt.plot(values)\n",
    "\n",
    "values = np.atleast_2d(values.T)\n",
    "\n",
    "steps = 20\n",
    "\n",
    "X_train = []\n",
    "y_train = []\n",
    "for i in range(steps, len(values[0,:])-1):\n",
    "    if(True):\n",
    "        X_train.append(values[0, i-steps:i])\n",
    "        y_train.append(values[0, i+1])\n",
    "print(len(X_train))\n",
    "X_train, y_train = np.array(X_train), np.array(y_train)\n",
    "print(X_train.shape)\n",
    "\n",
    "X_train = np.reshape(X_train, (X_train.shape[0], X_train.shape[1], 1))\n"
   ]
  },
  {
   "cell_type": "code",
   "execution_count": null,
   "id": "321cf077",
   "metadata": {},
   "outputs": [],
   "source": [
    "regressor = Sequential()\n",
    "\n",
    "regressor.add(LSTM(units = 30, return_sequences = True))\n",
    "regressor.add(Dropout(0.2))\n",
    "\n",
    "regressor.add(LSTM(units = 30, return_sequences = True))\n",
    "regressor.add(Dropout(0.3))\n",
    "\n",
    "regressor.add(LSTM(units = 30, return_sequences = True))\n",
    "regressor.add(Dropout(0.2))\n",
    "\n",
    "regressor.add(LSTM(units = 30))\n",
    "regressor.add(Dropout(0.2))\n",
    "\n",
    "regressor.add(Dense(units = 1))\n",
    "\n",
    "regressor.compile(optimizer = 'adam', loss = 'mean_squared_error')\n",
    "\n",
    "\n",
    "indices = np.arange(X_train.shape[0])\n",
    "np.random.shuffle(indices)\n",
    "\n",
    "x_train = X_train[indices]\n",
    "Y_train = y_train[indices]\n",
    "\n",
    "regressor.fit(x_train[:2500], Y_train[:2500], epochs = 30, batch_size = 30)"
   ]
  },
  {
   "cell_type": "code",
   "execution_count": null,
   "id": "bebde020",
   "metadata": {},
   "outputs": [],
   "source": [
    "fr = 2000\n",
    "to = 3200\n",
    "predicted = []\n",
    "pred = regressor.predict(X_train[fr:to, :])\n",
    "print(pred.shape)\n",
    "predicted = pred[:, -1]\n",
    "plt.plot(range(fr, to), predicted, label = 'prediction')\n",
    "plt.plot(range(fr, to), y_train[fr:to], label = 'truth')\n",
    "plt.legend()"
   ]
  },
  {
   "cell_type": "code",
   "execution_count": null,
   "id": "5174ed88",
   "metadata": {},
   "outputs": [],
   "source": [
    "fr = 2000\n",
    "to = 2600\n",
    "predicted = []\n",
    "#pred = regressor.predict(X_train[fr:to, :])\n",
    "for j in range(fr, to):\n",
    "    val = X_train[j, :]\n",
    "    print(j)\n",
    "    for i in range(30):\n",
    "        new = regressor.predict(np.array([val]))[0, 0]\n",
    "        val = np.atleast_2d(np.append(val, [new])[-20:]).T\n",
    "    predicted.append(val[-1, 0])\n",
    "        \n",
    "plt.plot(range(fr, to), predicted, label = 'prediction')\n",
    "plt.plot(range(fr, to), y_train[fr:to], label = 'truth')\n",
    "plt.legend()"
   ]
  },
  {
   "cell_type": "code",
   "execution_count": null,
   "id": "3fb583ea",
   "metadata": {},
   "outputs": [],
   "source": [
    "plt.plot(range(fr+30, to+30), predicted, label = 'prediction')\n",
    "plt.plot(range(fr, to), y_train[fr:to], label = 'truth')\n",
    "plt.legend()"
   ]
  },
  {
   "cell_type": "code",
   "execution_count": null,
   "id": "20730e0b",
   "metadata": {},
   "outputs": [],
   "source": []
  }
 ],
 "metadata": {
  "kernelspec": {
   "display_name": "Python 3",
   "language": "python",
   "name": "python3"
  },
  "language_info": {
   "codemirror_mode": {
    "name": "ipython",
    "version": 3
   },
   "file_extension": ".py",
   "mimetype": "text/x-python",
   "name": "python",
   "nbconvert_exporter": "python",
   "pygments_lexer": "ipython3",
   "version": "3.8.5"
  }
 },
 "nbformat": 4,
 "nbformat_minor": 5
}
