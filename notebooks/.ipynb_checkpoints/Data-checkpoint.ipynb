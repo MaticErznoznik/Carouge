{
 "cells": [
  {
   "cell_type": "code",
   "execution_count": null,
   "metadata": {},
   "outputs": [],
   "source": [
    "import pandas as pd\n",
    "import numpy as np\n",
    "import matplotlib.pyplot as plt\n",
    "import plotly.express as px\n",
    "import plotly.offline as pyo"
   ]
  },
  {
   "cell_type": "code",
   "execution_count": null,
   "metadata": {},
   "outputs": [],
   "source": [
    "pyo.init_notebook_mode()\n",
    "\n",
    "\n",
    "devices = [\n",
    "    \"0a6a\",#\n",
    "    \"0a7c\",#\n",
    "    \"0a80\",#\n",
    "    \"0a83\",#\n",
    "    \"1efd\",\n",
    "    \"1efe\",\n",
    "    \"1eff\",\n",
    "    \"1f0d\",\n",
    "    \"1f02\",\n",
    "    \"1f06\",\n",
    "    \"1f08\",\n",
    "    \"1f09\",\n",
    "    \"1f10\"\n",
    "]\n",
    "n = -4\n",
    "filename = \"carouge_device_\" + devices[n] + \".csv\"\n",
    "\n",
    "data = pd.read_csv(\"../data/\" + filename)[-10000:-1000]\n",
    "data['time'] = pd.to_datetime(data['time'], unit = 's')\n",
    "\n",
    "fig, ax = plt.subplots(figsize = (12, 5))\n",
    "plt.plot(data['time'], data['value'])\n",
    "#plt.ylim([0, 70])\n",
    "\n",
    "#values_temp = data['soilTemperature'].values\n",
    "values_Moisture = np.convolve(data['value'].values, np.ones(6)/6, mode = 'same')\n",
    "times = data['time'].values\n",
    "\n",
    "values_Moisture = data['value'].values\n",
    "\n",
    "#ratios = Descent_constant(values_Moisture)\n",
    "#plt.plot(ratios)\n",
    "#plt.ylim([-5, 5])\n",
    "#plt.plot(values_Moisture)\n",
    "plt.ylabel('moisture[%]')\n",
    "plt.xlabel('time')\n",
    "\n",
    "\n",
    "\n"
   ]
  },
  {
   "cell_type": "code",
   "execution_count": null,
   "metadata": {},
   "outputs": [],
   "source": [
    "n = 1\n",
    "\n",
    "all_temp = np.array([])\n",
    "all_moisture = np.array([])\n",
    "\n",
    "for n in [5]:\n",
    "    filename = \"New_folder1/carouge_flower_bed_\" + str(n) + \".csv\"\n",
    "\n",
    "    data = pd.read_csv(\"../data/\" + filename)\n",
    "    data['time'] = pd.to_datetime(data['time'], unit = 's')\n",
    "\n",
    "    #display(data)\n",
    "\n",
    "    fig, ax = plt.subplots(figsize = (11, 5))\n",
    "\n",
    "    #idx =  data['soilMoistureEc']>\n",
    "\n",
    "    plt.plot(data['time'], data['soilMoisture'], label = 'moisture')\n",
    "    \n",
    "    plt.plot(data['time'], data['consumption'], label = 'consumption')\n",
    "    #plt.ylim([-10, 50])\n",
    "\n",
    "\n",
    "    values_temp = data['soilTemperature'].values\n",
    "    values_Moisture = data['soilMoisture'].values\n",
    "    times = data['time'].values\n",
    "    all_temp = np.concatenate([all_temp, values_temp])\n",
    "    all_moisture = np.concatenate([all_moisture, values_Moisture])\n",
    "plt.legend()\n",
    "\n",
    "Sum = 0\n",
    "for i in range(len(data['consumption'])-2):\n",
    "    if(data['consumption'].values[i+1] != data['consumption'].values[i]):\n",
    "        Sum += data['consumption'].values[i+1]\n",
    "        if(data['consumption'].values[i+2] == data['consumption'].values[i+1]):\n",
    "            print('Watering: ' + str(Sum) + 'L')\n",
    "            print(data['time'].values[i+1])\n",
    "            diff = max(data['soilMoisture'].values[i-10:i+100]) - min(data['soilMoisture'].values[i-10:i+100])\n",
    "            print('diff: ' + str(diff))\n",
    "            Sum = 0\n",
    "        \n",
    "print('Sum: ' + str(Sum))\n",
    "\n",
    "#                2             3\n",
    "#watering = [[64.21, 6], [106.58, 10] "
   ]
  },
  {
   "cell_type": "code",
   "execution_count": null,
   "metadata": {},
   "outputs": [],
   "source": [
    "for n in range(1, 9):\n",
    "    filename = \"New_folder1/carouge_flower_bed_\" + str(n) + \".csv\"\n",
    "\n",
    "    data = pd.read_csv(\"../data/\" + filename)\n",
    "    data['time'] = pd.to_datetime(data['time'], unit = 's')\n",
    "    print(set(data['feedback'].dropna()))\n",
    "    print(set(data['feedbackDate'].dropna()))"
   ]
  },
  {
   "cell_type": "code",
   "execution_count": null,
   "metadata": {},
   "outputs": [],
   "source": [
    "delta_f = []\n",
    "\n",
    "print(len(values_Moisture))\n",
    "print(len(values_temp))\n",
    "\n",
    "jump = 3\n",
    "for i in range(len(all_moisture)-jump):\n",
    "    delta = (all_moisture[i+jump] - all_moisture[i])/int(data['time'].values[i+jump] - data['time'].values[i])*1e9\n",
    "    \n",
    "    #delta = (np.abs(delta))\n",
    "    \n",
    "    T = all_temp[i]\n",
    "    current = all_moisture[i]\n",
    "    if(delta < 0):\n",
    "        delta_f.append([delta, T, current])\n",
    "delta_f = np.array(delta_f)\n",
    "\n",
    "print('ratio = ' + str(len(delta_f)/len(all_moisture)))\n",
    "  \n",
    "#plt.scatter(delta_f[:,1], delta_f[:,2], c = delta_f[:,0], s = 5)\n",
    "plt.scatter(delta_f[:,2], delta_f[:,0])\n",
    "plt.ylim([-0.003, 0])\n",
    "plt.xlabel('H')\n",
    "plt.ylabel('dH')\n",
    "plt.title(r'$\\delta H (T, H)$')\n",
    "plt.colorbar()\n",
    "    "
   ]
  },
  {
   "cell_type": "code",
   "execution_count": null,
   "metadata": {},
   "outputs": [],
   "source": [
    "filename = \"carouge_WeatherObserved.csv\"\n",
    "\n",
    "start_time = pd.datetime(2020, 1, 1)\n",
    "print(start_time)\n",
    "\n",
    "weather = pd.read_csv(\"../data/\" + filename)\n",
    "weather[\"stampm\"] = pd.to_datetime(weather[\"stampm\"], unit = 's')\n",
    "display(weather)"
   ]
  },
  {
   "cell_type": "code",
   "execution_count": null,
   "metadata": {},
   "outputs": [],
   "source": [
    "def find_peaks(series, period, jump):\n",
    "    peak_idx = []\n",
    "    for i in range(period, len(series)):\n",
    "        if((series[i] - series[i-period])< -jump):\n",
    "            peak_idx.append(i)\n",
    "    return(peak_idx)\n",
    "tofind =   data['soilMoisture'].values\n",
    "peaks = find_peaks(tofind, 5, 1)\n",
    "plt.plot(times, tofind)\n",
    "plt.scatter(times[peaks], tofind[peaks], c = 'r')\n",
    "#plt.plot(times, values_temp)"
   ]
  },
  {
   "cell_type": "code",
   "execution_count": null,
   "metadata": {},
   "outputs": [],
   "source": [
    "w_p = np.array([[64.21, 6], [106.58, 10]])\n",
    "plt.scatter(w_p[:,0], w_p[:,1])\n",
    "plt.ylim([0, 12])\n",
    "plt.xlim([0, 120])\n",
    "\n",
    "t = np.linspace(0, 120, 100)\n",
    "plt.plot(t, 0.093*t, 'k--')\n",
    "plt.xlabel('Watering ammount[L]')\n",
    "plt.ylabel('Moisture change[%]')\n"
   ]
  },
  {
   "cell_type": "code",
   "execution_count": null,
   "metadata": {},
   "outputs": [],
   "source": [
    "set([1, 1, 2, None])"
   ]
  },
  {
   "cell_type": "code",
   "execution_count": null,
   "metadata": {},
   "outputs": [],
   "source": [
    "display(data)"
   ]
  },
  {
   "cell_type": "code",
   "execution_count": null,
   "metadata": {},
   "outputs": [],
   "source": []
  },
  {
   "cell_type": "code",
   "execution_count": null,
   "metadata": {},
   "outputs": [],
   "source": []
  }
 ],
 "metadata": {
  "kernelspec": {
   "display_name": "Python 3",
   "language": "python",
   "name": "python3"
  },
  "language_info": {
   "codemirror_mode": {
    "name": "ipython",
    "version": 3
   },
   "file_extension": ".py",
   "mimetype": "text/x-python",
   "name": "python",
   "nbconvert_exporter": "python",
   "pygments_lexer": "ipython3",
   "version": "3.8.5"
  }
 },
 "nbformat": 4,
 "nbformat_minor": 4
}
